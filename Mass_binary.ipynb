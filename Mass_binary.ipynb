{
 "cells": [
  {
   "cell_type": "code",
   "execution_count": 1,
   "metadata": {},
   "outputs": [
    {
     "data": {
      "text/html": [
       "<style>.container { width:95% !important; }</style>"
      ],
      "text/plain": [
       "<IPython.core.display.HTML object>"
      ]
     },
     "metadata": {},
     "output_type": "display_data"
    }
   ],
   "source": [
    "from IPython.core.display import display, HTML\n",
    "display(HTML(\"<style>.container { width:95% !important; }</style>\"))"
   ]
  },
  {
   "cell_type": "code",
   "execution_count": 15,
   "metadata": {},
   "outputs": [],
   "source": [
    "import pandas as pd\n",
    "import numpy as np\n",
    "import matplotlib.pyplot as plt\n",
    "import math as m\n",
    "from scipy.interpolate import interp1d\n",
    "from random import random\n",
    "import scipy.optimize\n",
    "\n",
    "def lummass (M): \n",
    "    \"\"\"gets luminosity from Mass (in SunMass) \"\"\"\n",
    "    return pow(10, (-0.705)*np.log10(M)**2 + 4.655*np.log10(M) - 0.025)\n",
    "\n",
    "def get_parameters(mode): \n",
    "    \"\"\"gets cluster's info\"\"\"\n",
    "    if (mode == 'IC2714'):\n",
    "        return 10.484, 0.340,1.87\n",
    "    elif (mode == 'NGC1912'):\n",
    "        return 10.294, 0.253,1.82\n",
    "    elif (mode == 'NGC2099'):\n",
    "        return 10.74, 0.301,2.16\n",
    "    elif (mode == 'NGC6834'):\n",
    "        return 11.588, 0.706,0.3\n",
    "    elif (mode == 'NGC7142'):\n",
    "        return 10.2, 0.25,2.6\n",
    "    else:\n",
    "        raise ValueError \n",
    "\n",
    "def to_lf (a, b, c, step, alpha):\n",
    "    \"\"\"gets number of stars with definite magnitude\"\"\"\n",
    "    func = interp1d(a, b)\n",
    "    return func(c) * step * alpha\n",
    "\n",
    "def to_mf (a, b, c, d): \n",
    "    \"\"\"gets mass of a starS with definite magnitude\"\"\"\n",
    "    func = interp1d(a, b)\n",
    "    return func(c)*d\n",
    "\n",
    "def neyman(data_q): \n",
    "    \"\"\"gets q randomly from definite distribution\"\"\"\n",
    "    iter = True\n",
    "    while iter == True:\n",
    "        q, Fr = random(), random()\n",
    "        F = interp1d(data_q['q'], data_q['F'])\n",
    "        if Fr <= F(q) and q != 0:\n",
    "            iter = False\n",
    "            return q\n",
    "        else:\n",
    "            iter = True\n",
    "            \n",
    "def func(x,q,lf):\n",
    "    \"\"\"equation to determine Mass (x)\"\"\"\n",
    "    return np.log10(lummass(x))*np.log(10) + np.log(1 + \n",
    "                   pow(m.e, np.log(10)*(-0.705*np.log10(q)*np.log10(q) +\n",
    "                   4.655*np.log10(q) - 1.41*np.log10(x)*np.log10(q))))-np.log(lf)    "
   ]
  },
  {
   "cell_type": "code",
   "execution_count": 28,
   "metadata": {},
   "outputs": [],
   "source": [
    "in_file_lf = input(\"Input the Luminosity Function \\n\") #example \"IC2714_density.txt\"\n",
    "in_file_is = input(\"Input the isochrone \\n\")           #example \"iso_4e8.txt\"\n",
    "in_file_q = input(\"Input the distribution of q \\n\")    #example \"func_flat.txt\"\n",
    "\n",
    "data_lf = pd.read_csv(in_file_lf, delimiter='\\s+', header=None, names = ['J, mag','F','F_low', 'F_high'])\n",
    "data_is = pd.read_csv(\"iso_4e8.txt\", delimiter='\\s+')\n",
    "data_q = pd.read_csv(in_file_q, delimiter=' ', header=None, names = ['q','F'])\n",
    "iso_young = pd.read_csv(\"iso_4e7.txt\", delimiter='\\s+')"
   ]
  },
  {
   "cell_type": "code",
   "execution_count": 29,
   "metadata": {},
   "outputs": [],
   "source": [
    "dist_mod, EBV, Jlim = get_parameters (in_file_lf.split('_')[0])\n",
    "\n",
    "data_lf['Jabs, mag'] = data_lf['J, mag']- 2.43 * 0.37 * EBV - dist_mod\n",
    "\n",
    "step = (data_lf['Jabs, mag'].iloc[-1] - data_lf['Jabs, mag'].iloc[0]) / 30\n",
    "main_table = pd.DataFrame(np.linspace(data_lf['Jabs, mag'].iloc[0], data_lf['Jabs, mag'].iloc[-1], num = 31, dtype=None)+step/2)\n",
    "main_table.rename(columns={0 : 'Jabs'}, inplace = True)\n",
    "main_table = main_table.drop(main_table.index[30])\n",
    "\n",
    "results = pd.DataFrame(data = {'ALPHA': [0], 'MASS CLUSTER NEW': [0], 'RATIO': [0], 'RATIO SD': [0]})\n",
    "\n",
    "#getting the mass of the cluster without any binary\n",
    "main_table['Num_all_ss'] = np.round(to_lf(data_lf['Jabs, mag'], data_lf['F'], main_table['Jabs'], step, 1))\n",
    "main_table['mass_all_ss'] = to_mf(data_is['Jmag'], data_is['Mass'], main_table['Jabs'], main_table['Num_all_ss'])\n",
    "MASS_CLUSTER_OLD = main_table['mass_all_ss'].sum()"
   ]
  },
  {
   "cell_type": "code",
   "execution_count": null,
   "metadata": {},
   "outputs": [],
   "source": [
    "algo = input(\"print 's' for same components of star system, 'q' if components are different\")\n",
    "if algo !='s' and algo!='q':\n",
    "    print (\"try this again, wrong symbol\")"
   ]
  },
  {
   "cell_type": "code",
   "execution_count": 30,
   "metadata": {},
   "outputs": [
    {
     "name": "stdout",
     "output_type": "stream",
     "text": [
      "0.0\n",
      "0.1\n",
      "0.2\n",
      "0.30000000000000004\n",
      "0.4\n",
      "0.5\n",
      "0.6000000000000001\n",
      "0.7000000000000001\n",
      "0.8\n",
      "0.9\n"
     ]
    }
   ],
   "source": [
    "#for same masses\n",
    "if algo == 's':\n",
    "    for ALPHA in np.arange (0., 1., 0.1):\n",
    "        print (ALPHA)\n",
    "        MASS_BINARIES = 0\n",
    "        \n",
    "    #getting the mass of binaries in the cluster\n",
    "        main_table['Num_tri'] = np.round(to_lf(data_lf['Jabs, mag'], data_lf['F'], main_table['Jabs'], step, ALPHA*8/45))\n",
    "        main_table['Num_cua'] = np.round(to_lf(data_lf['Jabs, mag'], data_lf['F'], main_table['Jabs'], step, ALPHA*4/45))\n",
    "        main_table['Num_bin'] = np.round(to_lf(data_lf['Jabs, mag'], data_lf['F'], main_table['Jabs'], step, ALPHA))- main_table['Num_tri'] - main_table['Num_cua']\n",
    "    \n",
    "        main_table['Lum0_bin'] = lummass(to_mf(data_is['Jmag'], data_is['Mass'], main_table['Jabs'],1))\n",
    "        main_table['Lum0_bin'][main_table['Jabs'] < Jlim] = pow(10,\n",
    "                                                            to_mf(iso_young['Mass'], iso_young['logL'],\n",
    "                                                                  to_mf(data_is['Jmag'], data_is['Mass'], main_table['Jabs'],1),1))\n",
    "        \n",
    "        main_table['mass_all_bs'] = to_mf(data_is['logL'], data_is['Mass'], np.log10(main_table['Lum0_bin']/2), main_table['Num_bin'])*2\n",
    "        main_table['mass_all_ts'] = to_mf(data_is['logL'], data_is['Mass'], np.log10(main_table['Lum0_bin']/3), main_table['Num_tri'])*3\n",
    "        main_table['mass_all_cs'] = to_mf(data_is['logL'], data_is['Mass'], np.log10(main_table['Lum0_bin']/4), main_table['Num_cua'])*4\n",
    "    \n",
    "        MASS_BINARIES = main_table['mass_all_bs'].sum() +main_table['mass_all_ts'].sum() + main_table['mass_all_cs'].sum()\n",
    "        \n",
    "    #getting the mass of single stars in the cluster\n",
    "        main_table['Num_part_ss'] = np.round(to_lf(data_lf['Jabs, mag'], data_lf['F'], main_table['Jabs'], step, 1)) - np.round(to_lf(data_lf['Jabs, mag'], data_lf['F'], main_table['Jabs'], step, ALPHA))\n",
    "        main_table['mass_part_ss'] = to_mf(data_is['Jmag'], data_is['Mass'], main_table['Jabs'], main_table['Num_part_ss'])\n",
    "        MASS_SINGLES = main_table['mass_part_ss'].sum()\n",
    "   \n",
    "        MASS_CLUSTER_NEW = MASS_BINARIES + MASS_SINGLES;\n",
    "        ratio = MASS_CLUSTER_NEW / MASS_CLUSTER_OLD\n",
    "        results = results.append(pd.Series([ALPHA, MASS_CLUSTER_NEW, np.mean(ratio), np.std(ratio)], index =['ALPHA', 'MASS CLUSTER NEW', 'RATIO', 'RATIO SD']), ignore_index=True)\n",
    "\n",
    "    results = results.drop(0)\n",
    "    results = results.round({'ALPHA' : 1, 'MASS CLUSTER NEW' : 2, 'RATIO' : 4, 'RATIO SD' : 4})\n",
    "    results.to_csv(f\"alpha_{in_file_lf.split('_')[0]}_same_4.txt\"  , sep='\\t', index=False, mode='w')"
   ]
  },
  {
   "cell_type": "code",
   "execution_count": 27,
   "metadata": {},
   "outputs": [
    {
     "name": "stdout",
     "output_type": "stream",
     "text": [
      "0.0\n",
      "0.1\n",
      "0.2\n",
      "0.30000000000000004\n",
      "0.4\n",
      "0.5\n",
      "0.6000000000000001\n",
      "0.7000000000000001\n",
      "0.8\n",
      "0.9\n"
     ]
    }
   ],
   "source": [
    "# for masses by q\n",
    "if algo == 'q':\n",
    "    for ALPHA in np.arange (0., 1., 0.1):\n",
    "        print (ALPHA)\n",
    "        ratio = []\n",
    "        for i in range(0, 30):\n",
    "            MASS_BINARIES = 0\n",
    "        \n",
    "        #getting the mass of binaries in the cluster\n",
    "            main_table['Num_bin'] = np.round(to_lf(data_lf['Jabs, mag'], data_lf['F_low'], main_table['Jabs'], step, ALPHA))\n",
    "            main_table['Lum0_bin'] = lummass(to_mf(data_is['Jmag'], data_is['Mass'], main_table['Jabs'],1))\n",
    "        \n",
    "            main_table['Lum0_bin'][main_table['Jabs'] < Jlim] = pow(10,to_mf(iso_young['Mass'], iso_young['logL'],to_mf(data_is['Jmag'], data_is['Mass'], main_table['Jabs'],1),1))\n",
    "        \n",
    "            data_binaries = main_table.loc[main_table.index.repeat(main_table['Num_bin'].astype(int))]\n",
    "            data_binaries.index = pd.RangeIndex(len(data_binaries.index))\n",
    "        \n",
    "            for star in range (0, len(data_binaries)):\n",
    "                q=neyman(data_q)\n",
    "                MASS_BINARIES += scipy.optimize.brentq(func, 0.001, 10, args = (q,data_binaries['Lum0_bin'].iloc[star])) * (1 + q)\n",
    "        \n",
    "        #getting the mass of single stars in the cluster\n",
    "            main_table['Num_part_ss'] = np.round(to_lf(data_lf['Jabs, mag'], data_lf['F'], main_table['Jabs'], step, 1)) - np.round(to_lf(data_lf['Jabs, mag'], data_lf['F'], main_table['Jabs'], step, ALPHA))\n",
    "            main_table['mass_part_ss'] = to_mf(data_is['Jmag'], data_is['Mass'], main_table['Jabs'], main_table['Num_part_ss'])\n",
    "            MASS_SINGLES = main_table['mass_part_ss'].sum()\n",
    "   \n",
    "            MASS_CLUSTER_NEW = MASS_BINARIES + MASS_SINGLES;\n",
    "            ratio.append(MASS_CLUSTER_NEW / MASS_CLUSTER_OLD)\n",
    "        \n",
    "        results = results.append(pd.Series([ALPHA, MASS_CLUSTER_NEW, np.mean(ratio), np.std(ratio)], index =['ALPHA', 'MASS CLUSTER NEW', 'RATIO', 'RATIO SD']), ignore_index=True)\n",
    "\n",
    "    results = results.drop(0)\n",
    "    results = results.round({'ALPHA' : 1, 'MASS CLUSTER NEW' : 2, 'RATIO' : 4, 'RATIO SD' : 4})\n",
    "    results.to_csv(f\"alpha_{in_file_lf.split('_')[0]}_{in_file_q.split('.txt')[0]}_corrected.txt\"  , sep='\\t', index=False)"
   ]
  }
 ],
 "metadata": {
  "kernelspec": {
   "display_name": "Python 3",
   "language": "python",
   "name": "python3"
  },
  "language_info": {
   "codemirror_mode": {
    "name": "ipython",
    "version": 3
   },
   "file_extension": ".py",
   "mimetype": "text/x-python",
   "name": "python",
   "nbconvert_exporter": "python",
   "pygments_lexer": "ipython3",
   "version": "3.6.5"
  }
 },
 "nbformat": 4,
 "nbformat_minor": 2
}
